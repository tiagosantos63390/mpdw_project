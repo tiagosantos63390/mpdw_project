{
 "cells": [
  {
   "cell_type": "markdown",
   "metadata": {},
   "source": [
    "# Project Week 1: ActivityNet Video Data Preparation and Indexing\n",
    "\n",
    "In this example we will use the ActivityNet dataset https://github.com/activitynet/ActivityNet. \n",
    "\n",
    " - Select the 10 videos with more moments.\n",
    " - Download these videos onto your computer.\n",
    " - Extract the frames for every video.\n",
    " - Read the textual descriptions of each video.\n",
    " - Index the video data in OpenSearch.\n",
    "\n",
    " In this week, you will index the video data and make it searchable with OpenSearch. You should refer to the OpenSearch tutorial laboratory."
   ]
  },
  {
   "cell_type": "markdown",
   "metadata": {},
   "source": [
    "## Select videos\n",
    "Download the `activity_net.v1-3.min.json` file containing the list of videos. The file is in the github repository of ActivityNet.\n",
    "Parse this file and select the 10 videos with more moments."
   ]
  },
  {
   "cell_type": "code",
   "execution_count": 2,
   "metadata": {
    "ExecuteTime": {
     "end_time": "2025-03-30T17:28:26.731477Z",
     "start_time": "2025-03-30T17:28:26.563454Z"
    }
   },
   "outputs": [
    {
     "name": "stdout",
     "output_type": "stream",
     "text": [
      "Selected videos:\n",
      "['o1WPnnvs00I',\n",
      " 'oGwn4NUeoy8',\n",
      " 'VEDRmPt_-Ms',\n",
      " 'qF3EbR8y8go',\n",
      " 'DLJqhYP-C0k',\n",
      " 't6f_O8a4sSg',\n",
      " '6gyD-Mte2ZM',\n",
      " 'jBvGvVw3R-Q',\n",
      " 'PJ72Yl0B1rY',\n",
      " 'QHn9KyE-zZo']\n"
     ]
    }
   ],
   "source": [
    "import json\n",
    "from pprint import pprint\n",
    "import pprint as pp\n",
    "\n",
    "\n",
    "with open('activity_net.v1-3.min.json', 'r') as json_data:\n",
    "    data = json.load(json_data)\n",
    "\n",
    "# Complete here\n",
    "# Select 10 videos with the most moments\n",
    "video_moments = {video_id: len(details[\"annotations\"]) for video_id, details in data[\"database\"].items()}\n",
    "selected_videos = sorted(video_moments.keys(), key=lambda x: video_moments[x], reverse=True)[:10]\n",
    "\n",
    "print(\"Selected videos:\")\n",
    "pprint(selected_videos)"
   ]
  },
  {
   "cell_type": "markdown",
   "metadata": {},
   "source": [
    "## Video frame extraction\n",
    "\n",
    "PyAV is a wrapper library providing you access to `ffmpeg`, a command-line video processing tool. In the example below, you will be able to extract frames from the a video shot."
   ]
  },
  {
   "cell_type": "code",
   "execution_count": 3,
   "metadata": {
    "ExecuteTime": {
     "end_time": "2025-03-30T17:28:26.874211Z",
     "start_time": "2025-03-30T17:28:26.747452Z"
    }
   },
   "outputs": [
    {
     "name": "stdout",
     "output_type": "stream",
     "text": [
      "<av.VideoFrame, pts=0 yuv420p 1280x720 at 0x15fb0d6f2e0>\n",
      "<av.VideoFrame, pts=75 yuv420p 1280x720 at 0x15fb0d6f340>\n",
      "<av.VideoFrame, pts=150 yuv420p 1280x720 at 0x15faf24fa00>\n"
     ]
    }
   ],
   "source": [
    "import av\n",
    "import av.datasets\n",
    "\n",
    "content = av.datasets.curated(\"pexels/time-lapse-video-of-night-sky-857195.mp4\")\n",
    "with av.open(content) as container:\n",
    "    # Signal that we only want to look at keyframes.\n",
    "    stream = container.streams.video[0]\n",
    "    stream.codec_context.skip_frame = \"NONKEY\"\n",
    "\n",
    "    for i, frame in enumerate(container.decode(stream)):\n",
    "        print(frame)\n",
    "        frame.to_image().save(f\"night-sky.{i:04d}.jpg\", quality=80)"
   ]
  },
  {
   "cell_type": "markdown",
   "metadata": {},
   "source": [
    "## Video metadata\n",
    "\n",
    "Process the video metadata provided in the `json` file and index the video data in OpenSearch."
   ]
  },
  {
   "cell_type": "code",
   "execution_count": 4,
   "metadata": {
    "ExecuteTime": {
     "end_time": "2025-03-30T17:28:26.921217Z",
     "start_time": "2025-03-30T17:28:26.907180Z"
    }
   },
   "outputs": [
    {
     "name": "stdout",
     "output_type": "stream",
     "text": [
      "Video metadata (ordered by duration):\n",
      "{'6gyD-Mte2ZM': {'duration': 188.245,\n",
      "                 'url': 'https://www.youtube.com/watch?v=6gyD-Mte2ZM'},\n",
      " 'DLJqhYP-C0k': {'duration': 186.968,\n",
      "                 'url': 'https://www.youtube.com/watch?v=DLJqhYP-C0k'},\n",
      " 'PJ72Yl0B1rY': {'duration': 206.332,\n",
      "                 'url': 'https://www.youtube.com/watch?v=PJ72Yl0B1rY'},\n",
      " 'QHn9KyE-zZo': {'duration': 196.279,\n",
      "                 'url': 'https://www.youtube.com/watch?v=QHn9KyE-zZo'},\n",
      " 'VEDRmPt_-Ms': {'duration': 232.07999999999998,\n",
      "                 'url': 'https://www.youtube.com/watch?v=VEDRmPt_-Ms'},\n",
      " 'jBvGvVw3R-Q': {'duration': 218.62,\n",
      "                 'url': 'https://www.youtube.com/watch?v=jBvGvVw3R-Q'},\n",
      " 'o1WPnnvs00I': {'duration': 229.86,\n",
      "                 'url': 'https://www.youtube.com/watch?v=o1WPnnvs00I'},\n",
      " 'oGwn4NUeoy8': {'duration': 153.09,\n",
      "                 'url': 'https://www.youtube.com/watch?v=oGwn4NUeoy8'},\n",
      " 'qF3EbR8y8go': {'duration': 204.1,\n",
      "                 'url': 'https://www.youtube.com/watch?v=qF3EbR8y8go'},\n",
      " 't6f_O8a4sSg': {'duration': 218.52,\n",
      "                 'url': 'https://www.youtube.com/watch?v=t6f_O8a4sSg'}}\n"
     ]
    }
   ],
   "source": [
    "# Extract video metadata\n",
    "video_metadata = {vid: {\"duration\": data[\"database\"][vid][\"duration\"], \"url\": data[\"database\"][vid].get(\"url\", \"N/A\")} for vid in selected_videos}\n",
    "\n",
    "# Sort video metadata by duration (ascending order)\n",
    "video_metadata = dict(sorted(video_metadata.items(), key=lambda x: x[1][\"duration\"]))\n",
    "\n",
    "print(\"Video metadata (ordered by duration):\")\n",
    "pprint(video_metadata)"
   ]
  },
  {
   "cell_type": "markdown",
   "metadata": {},
   "source": [
    "## Video captions\n",
    "\n",
    "The ActivityNetCaptions dataset https://cs.stanford.edu/people/ranjaykrishna/densevid/ dataset provides a textual description of each videos. Index the video captions on a text field of your OpenSearch index."
   ]
  },
  {
   "cell_type": "code",
   "execution_count": 6,
   "metadata": {
    "ExecuteTime": {
     "end_time": "2025-03-30T17:28:43.515358Z",
     "start_time": "2025-03-30T17:28:26.956181Z"
    }
   },
   "outputs": [
    {
     "name": "stdout",
     "output_type": "stream",
     "text": [
      "{'acknowledged': True, 'shards_acknowledged': True}\n",
      "\n",
      "----------------------------------------------------------------------------------- INDEX SETTINGS\n",
      "{'user04': {'settings': {'index': {'creation_date': '1742992264835',\n",
      "                                   'knn': 'true',\n",
      "                                   'number_of_replicas': '0',\n",
      "                                   'number_of_shards': '4',\n",
      "                                   'provided_name': 'user04',\n",
      "                                   'refresh_interval': '1s',\n",
      "                                   'replication': {'type': 'DOCUMENT'},\n",
      "                                   'uuid': 'uG4JrAVyRx-jTvLatZpCfg',\n",
      "                                   'version': {'created': '136387927'}}}}}\n",
      "\n",
      "----------------------------------------------------------------------------------- INDEX MAPPINGS\n",
      "{'user04': {'mappings': {'dynamic': 'strict',\n",
      "                         'properties': {'contents': {'analyzer': 'standard',\n",
      "                                                     'similarity': 'BM25',\n",
      "                                                     'type': 'text'},\n",
      "                                        'doc_id': {'type': 'keyword'},\n",
      "                                        'json': {'type': 'flat_object'},\n",
      "                                        'tags': {'type': 'keyword'}}}}}\n",
      "\n",
      "----------------------------------------------------------------------------------- INDEX #DOCs\n",
      "{'count': 2, '_shards': {'total': 4, 'successful': 4, 'skipped': 0, 'failed': 0}}\n"
     ]
    }
   ],
   "source": [
    "# Extract video captions\n",
    "video_captions = {vid: data[\"database\"][vid].get(\"captions\", []) for vid in selected_videos}\n",
    "\n",
    "# Index video captions in OpenSearch\n",
    "from opensearchpy import OpenSearch\n",
    "\n",
    "host = 'api.novasearch.org'\n",
    "port = 443\n",
    "\n",
    "user = 'user04'\n",
    "password = 'no.LIMITS2100'\n",
    "index_name = user\n",
    "    \n",
    "# Create the client with SSL/TLS enabled, but hostname verification disabled.\n",
    "client = OpenSearch(\n",
    "    hosts = [{'host': host, 'port': port}],\n",
    "    http_compress = True, # enables gzip compression for request bodies\n",
    "    http_auth = (user, password),\n",
    "    use_ssl = True,\n",
    "    url_prefix = 'opensearch_v2',\n",
    "    verify_certs = False,\n",
    "    ssl_assert_hostname = False,\n",
    "    ssl_show_warn = False\n",
    ")\n",
    "\n",
    "if client.indices.exists(index_name):\n",
    "\n",
    "    resp = client.indices.open(index = index_name)\n",
    "    print(resp)\n",
    "\n",
    "    print('\\n----------------------------------------------------------------------------------- INDEX SETTINGS')\n",
    "    settings = client.indices.get_settings(index = index_name)\n",
    "    pp.pprint(settings)\n",
    "\n",
    "    print('\\n----------------------------------------------------------------------------------- INDEX MAPPINGS')\n",
    "    mappings = client.indices.get_mapping(index = index_name)\n",
    "    pp.pprint(mappings)\n",
    "\n",
    "    print('\\n----------------------------------------------------------------------------------- INDEX #DOCs')\n",
    "    print(client.count(index = index_name))\n",
    "else:\n",
    "    print(\"Index does not exist.\")\n",
    "\n",
    "# Index video captions\n",
    "# to_index = [{\"video_id\": vid, \"captions\": captions} for vid, captions in video_captions.items()]\n",
    "# for doc in to_index:\n",
    "#     client.index(index=index_name, body=doc)"
   ]
  },
  {
   "cell_type": "code",
   "execution_count": 7,
   "metadata": {},
   "outputs": [
    {
     "name": "stdout",
     "output_type": "stream",
     "text": [
      "{'acknowledged': True, 'shards_acknowledged': True, 'indices': {'user04': {'closed': True}}}\n"
     ]
    }
   ],
   "source": [
    "resp = client.indices.close(index = index_name)\n",
    "print(resp)"
   ]
  },
  {
   "cell_type": "code",
   "execution_count": 8,
   "metadata": {},
   "outputs": [],
   "source": [
    " # TODO"
   ]
  }
 ],
 "metadata": {
  "kernelspec": {
   "display_name": "nlp-cv-ir",
   "language": "python",
   "name": "python3"
  },
  "language_info": {
   "codemirror_mode": {
    "name": "ipython",
    "version": 3
   },
   "file_extension": ".py",
   "mimetype": "text/x-python",
   "name": "python",
   "nbconvert_exporter": "python",
   "pygments_lexer": "ipython3",
   "version": "3.9.21"
  }
 },
 "nbformat": 4,
 "nbformat_minor": 2
}
